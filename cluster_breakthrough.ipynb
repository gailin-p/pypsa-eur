{
 "cells": [
  {
   "cell_type": "code",
   "execution_count": null,
   "metadata": {},
   "outputs": [],
   "source": [
    "import pypsa\n",
    "\n",
    "import plotly.express as px\n",
    "import plotly.graph_objects as go\n",
    "\n",
    "import pandas as pd\n",
    "import geopy.distance\n",
    "import numpy as np\n",
    "\n",
    "from collections import namedtuple"
   ]
  },
  {
   "cell_type": "code",
   "execution_count": null,
   "metadata": {},
   "outputs": [],
   "source": [
    "%reload_ext autoreload\n",
    "%autoreload 2\n",
    "\n",
    "# # Tell python where to look for modules.\n",
    "import sys\n",
    "sys.path.append('scripts/')\n",
    "\n",
    "import simplify_network as simplify_network\n",
    "import cluster_network as cluster_network"
   ]
  },
  {
   "cell_type": "code",
   "execution_count": null,
   "metadata": {},
   "outputs": [],
   "source": [
    "eu_net = pypsa.Network(\"networks/elec.nc\")"
   ]
  },
  {
   "cell_type": "code",
   "execution_count": null,
   "metadata": {},
   "outputs": [],
   "source": [
    "n = pypsa.Network(\"../../singularity/carbon-flow/data/opf_ready_networks/Texas_breakthrough.nc\")"
   ]
  },
  {
   "cell_type": "code",
   "execution_count": null,
   "metadata": {},
   "outputs": [],
   "source": [
    "n.lines.v_nom.unique()"
   ]
  },
  {
   "cell_type": "code",
   "execution_count": null,
   "metadata": {},
   "outputs": [],
   "source": [
    "n, map = simplify_network.simplify_network_to_380(n, newv=230)"
   ]
  },
  {
   "cell_type": "code",
   "execution_count": null,
   "metadata": {},
   "outputs": [],
   "source": [
    "out_config = namedtuple('output', [\"connection_costs\"])(\"egcost.csv\")\n"
   ]
  },
  {
   "cell_type": "code",
   "execution_count": null,
   "metadata": {},
   "outputs": [],
   "source": [
    "n.generators[\"weight\"] = np.nan"
   ]
  },
  {
   "cell_type": "code",
   "execution_count": null,
   "metadata": {},
   "outputs": [],
   "source": [
    "# Remove generators with zero p_nom\n",
    "for zerog in n.generators[n.generators.p_set==0].index:\n",
    "    n.remove(\"Generator\",zerog)"
   ]
  },
  {
   "cell_type": "code",
   "execution_count": null,
   "metadata": {},
   "outputs": [],
   "source": [
    "def single_mode(s:pd.Series): \n",
    "    modes= s.mode()\n",
    "    if len(modes)>0:\n",
    "        return modes.loc[0]\n",
    "    return None\n",
    "\n",
    "# How should we aggregate each numeric column in generators? \n",
    "aggregation_strategies = {\n",
    "    \"generators\":{\n",
    "        \"p_set\":pd.Series.median,\n",
    "        \"q_set\":pd.Series.median,\n",
    "        \"marginal_cost\":pd.Series.median, \n",
    "        'q_max':pd.Series.median, \n",
    "        'q_min':pd.Series.median, \n",
    "        'v_set_pu':pd.Series.median, \n",
    "        'mva_base':pd.Series.median, \n",
    "       'p_min':pd.Series.max, \n",
    "       'Pc1':pd.Series.median, \n",
    "       'Pc2':pd.Series.median, \n",
    "       'Qc1min':pd.Series.median, \n",
    "       'Qc1max':pd.Series.median, \n",
    "       'Qc2min':pd.Series.median, \n",
    "       'Qc2max':pd.Series.median,\n",
    "       'ramp_agc':pd.Series.median, \n",
    "       'ramp_10':pd.Series.median, \n",
    "       'ramp_30':pd.Series.median, \n",
    "       'ramp_q':pd.Series.median, \n",
    "       'apf':pd.Series.median, \n",
    "       'marginal_cost':pd.Series.median,\n",
    "       'p_nom_min':pd.Series.sum, \n",
    "       'p_nom_max':pd.Series.sum, \n",
    "       'p_min_pu':pd.Series.median, \n",
    "       'p_max_pu':pd.Series.median, \n",
    "       'sign':pd.Series.mode, \n",
    "       'build_year':pd.Series.median,\n",
    "       'lifetime':pd.Series.median, \n",
    "       'capital_cost':pd.Series.sum, \n",
    "       'efficiency':pd.Series.median, \n",
    "       'start_up_cost':pd.Series.sum,\n",
    "       'shut_down_cost':pd.Series.sum, \n",
    "       'min_up_time':pd.Series.median, \n",
    "       'min_down_time':pd.Series.median, \n",
    "       'up_time_before':pd.Series.median,\n",
    "       'down_time_before':pd.Series.median, \n",
    "       'ramp_limit_up':pd.Series.max, \n",
    "       'ramp_limit_down':pd.Series.max,\n",
    "       'ramp_limit_start_up':pd.Series.median, \n",
    "       'ramp_limit_shut_down':pd.Series.median, \n",
    "       'p_nom_opt':pd.Series.median\n",
    "    },\n",
    "    \"buses\":{\n",
    "        'Pd':pd.Series.median, \n",
    "        'Qd':pd.Series.median,\n",
    "        'Gs':pd.Series.median,\n",
    "        'Bs':pd.Series.median,\n",
    "        'area':pd.Series.median,\n",
    "        'v_mag_pu_set':pd.Series.median,\n",
    "        'v_ang_set':pd.Series.median,\n",
    "        'v_nom':pd.Series.median,\n",
    "        'zone':single_mode, \n",
    "        'v_mag_pu_max':pd.Series.median,\n",
    "        'v_mag_pu_min':pd.Series.median,\n",
    "        'control':single_mode, \n",
    "        'x':pd.Series.median,\n",
    "        'y':pd.Series.median,\n",
    "        'type':single_mode,\n",
    "        'carrier':single_mode,\n",
    "        'unit':single_mode,\n",
    "        'sub_network':single_mode,\n",
    "        'country':single_mode,\n",
    "        'generator':single_mode,\n",
    "    }\n",
    "}"
   ]
  },
  {
   "cell_type": "code",
   "execution_count": null,
   "metadata": {},
   "outputs": [],
   "source": [
    "config = {\"clustering\":\n",
    "        {\"simplify_network\":{\n",
    "        \"to_substations\": False, # network is simplified to nodes with positive or negative power injection (i.e. substations or offwind connections)\n",
    "        \"algorithm\": \"kmeans\", # choose from: [hac, kmeans]\n",
    "        \"exclude_carriers\": []\n",
    "    }}}\n",
    "\n",
    "n, stub_map = simplify_network.remove_stubs(n, {}, config, out_config, aggregation_strategies)"
   ]
  },
  {
   "cell_type": "code",
   "execution_count": null,
   "metadata": {},
   "outputs": [],
   "source": [
    "exclude_carriers = []\n",
    "aggregate_carriers = set(n.generators.carrier) - set(exclude_carriers)"
   ]
  },
  {
   "cell_type": "code",
   "execution_count": null,
   "metadata": {},
   "outputs": [],
   "source": [
    "n.buses[\"country\"]=\"USA\""
   ]
  },
  {
   "cell_type": "code",
   "execution_count": null,
   "metadata": {},
   "outputs": [],
   "source": [
    "# busmap for \n",
    "n.calculate_dependent_values()\n",
    "len(n.buses.sub_network.unique())"
   ]
  },
  {
   "cell_type": "code",
   "execution_count": null,
   "metadata": {},
   "outputs": [],
   "source": [
    "n.export_to_netcdf(\"networks/Texas_breakthrough_s.nc\")"
   ]
  },
  {
   "cell_type": "code",
   "execution_count": null,
   "metadata": {},
   "outputs": [],
   "source": [
    "N = int(len(n.buses)/5)\n",
    "print(N)"
   ]
  },
  {
   "cell_type": "code",
   "execution_count": null,
   "metadata": {},
   "outputs": [],
   "source": [
    "clustering = cluster_network.clustering_for_n_clusters(\n",
    "    n, \n",
    "    128, # whole network subnet count\n",
    "    #3169, # Eastern interconnect subnets\n",
    "    False, # custom busmap?\n",
    "    #n.buses.sub_network, # when clusters = n subnets  \n",
    "    aggregate_carriers,\n",
    "    1.25, # default from config.yaml\n",
    "    aggregation_strategies,\n",
    "    \"ipopt\",\n",
    "    \"kmeans\",\n",
    "    \"\", # shouldn't matter\n",
    "    40.0, # HVAC overhead cost. not sure if correct\n",
    "    None \n",
    "    )"
   ]
  },
  {
   "cell_type": "code",
   "execution_count": null,
   "metadata": {},
   "outputs": [],
   "source": [
    "cluster_network.update_p_nom_max(clustering.network)"
   ]
  },
  {
   "cell_type": "code",
   "execution_count": null,
   "metadata": {},
   "outputs": [],
   "source": [
    "clustering.network.export_to_netcdf(\"networks/Texas_breakthrough_s_128.nc\")"
   ]
  },
  {
   "cell_type": "code",
   "execution_count": null,
   "metadata": {},
   "outputs": [],
   "source": [
    "clustering.network.consistency_check()"
   ]
  },
  {
   "cell_type": "code",
   "execution_count": null,
   "metadata": {},
   "outputs": [],
   "source": [
    "clustering.network.plot()"
   ]
  },
  {
   "cell_type": "code",
   "execution_count": null,
   "metadata": {},
   "outputs": [],
   "source": [
    "n.plot()"
   ]
  }
 ],
 "metadata": {
  "kernelspec": {
   "display_name": "Python 3.10.6 ('pypsa-eur')",
   "language": "python",
   "name": "python3"
  },
  "language_info": {
   "codemirror_mode": {
    "name": "ipython",
    "version": 3
   },
   "file_extension": ".py",
   "mimetype": "text/x-python",
   "name": "python",
   "nbconvert_exporter": "python",
   "pygments_lexer": "ipython3",
   "version": "3.10.6"
  },
  "orig_nbformat": 4,
  "vscode": {
   "interpreter": {
    "hash": "46d5ebf2926f46929ca2db31796edefefe7ec85325cebf090b8bab44f0a985e8"
   }
  }
 },
 "nbformat": 4,
 "nbformat_minor": 2
}
